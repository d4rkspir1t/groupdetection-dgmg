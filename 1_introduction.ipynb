{
 "cells": [
  {
   "cell_type": "code",
   "execution_count": 2,
   "metadata": {},
   "outputs": [],
   "source": [
    "%matplotlib inline"
   ]
  },
  {
   "cell_type": "markdown",
   "metadata": {},
   "source": [
    "\n",
    "A Blitz Introduction to DGL - Node Classification\n",
    "=================================================\n",
    "\n",
    "GNNs are powerful tools for many machine learning tasks on graphs. In\n",
    "this introductory tutorial, you will learn the basic workflow of using\n",
    "GNNs for node classification, i.e. predicting the category of a node in\n",
    "a graph.\n",
    "\n",
    "By completing this tutorial, you will be able to\n",
    "\n",
    "-  Load a DGL-provided dataset.\n",
    "-  Build a GNN model with DGL-provided neural network modules.\n",
    "-  Train and evaluate a GNN model for node classification on either CPU\n",
    "   or GPU.\n",
    "\n",
    "This tutorial assumes that you have experience in building neural\n",
    "networks with PyTorch.\n",
    "\n",
    "(Time estimate: 13 minutes)\n"
   ]
  },
  {
   "cell_type": "code",
   "execution_count": 3,
   "metadata": {},
   "outputs": [
    {
     "name": "stderr",
     "output_type": "stream",
     "text": [
      "Using backend: pytorch\n"
     ]
    }
   ],
   "source": [
    "import dgl\n",
    "import torch\n",
    "import torch.nn as nn\n",
    "import torch.nn.functional as F"
   ]
  },
  {
   "cell_type": "markdown",
   "metadata": {},
   "source": [
    "Overview of Node Classification with GNN\n",
    "----------------------------------------\n",
    "\n",
    "One of the most popular and widely adopted tasks on graph data is node\n",
    "classification, where a model needs to predict the ground truth category\n",
    "of each node. Before graph neural networks, many proposed methods are\n",
    "using either connectivity alone (such as DeepWalk or node2vec), or simple\n",
    "combinations of connectivity and the node's own features.  GNNs, by\n",
    "contrast, offers an opportunity to obtain node representations by\n",
    "combining the connectivity and features of a *local neighborhood*.\n",
    "\n",
    "`Kipf et\n",
    "al., <https://arxiv.org/abs/1609.02907>`__ is an example that formulates\n",
    "the node classification problem as a semi-supervised node classification\n",
    "task. With the help of only a small portion of labeled nodes, a graph\n",
    "neural network (GNN) can accurately predict the node category of the\n",
    "others.\n",
    "\n",
    "This tutorial will show how to build such a GNN for semi-supervised node\n",
    "classification with only a small number of labels on the Cora\n",
    "dataset,\n",
    "a citation network with papers as nodes and citations as edges. The task\n",
    "is to predict the category of a given paper. Each paper node contains a\n",
    "word count vector as its features, normalized so that they sum up to one,\n",
    "as described in Section 5.2 of\n",
    "`the paper <https://arxiv.org/abs/1609.02907>`__.\n",
    "\n",
    "Loading Cora Dataset\n",
    "--------------------\n",
    "\n",
    "\n"
   ]
  },
  {
   "cell_type": "code",
   "execution_count": 4,
   "metadata": {},
   "outputs": [
    {
     "name": "stdout",
     "output_type": "stream",
     "text": [
      "Loading from cache failed, re-processing.\n",
      "Finished data loading and preprocessing.\n",
      "  NumNodes: 2708\n",
      "  NumEdges: 10556\n",
      "  NumFeats: 1433\n",
      "  NumClasses: 7\n",
      "  NumTrainingSamples: 140\n",
      "  NumValidationSamples: 500\n",
      "  NumTestSamples: 1000\n",
      "Done saving data into cached files.\n",
      "Number of categories: 7\n"
     ]
    }
   ],
   "source": [
    "import dgl.data\n",
    "\n",
    "dataset = dgl.data.CoraGraphDataset()\n",
    "print('Number of categories:', dataset.num_classes)"
   ]
  },
  {
   "cell_type": "markdown",
   "metadata": {},
   "source": [
    "A DGL Dataset object may contain one or multiple graphs. The Cora\n",
    "dataset used in this tutorial only consists of one single graph.\n",
    "\n",
    "\n"
   ]
  },
  {
   "cell_type": "code",
   "execution_count": 5,
   "metadata": {},
   "outputs": [],
   "source": [
    "g = dataset[0]"
   ]
  },
  {
   "cell_type": "markdown",
   "metadata": {},
   "source": [
    "A DGL graph can store node features and edge features in two\n",
    "dictionary-like attributes called ``ndata`` and ``edata``.\n",
    "In the DGL Cora dataset, the graph contains the following node features:\n",
    "\n",
    "- ``train_mask``: A boolean tensor indicating whether the node is in the\n",
    "  training set.\n",
    "\n",
    "- ``val_mask``: A boolean tensor indicating whether the node is in the\n",
    "  validation set.\n",
    "\n",
    "- ``test_mask``: A boolean tensor indicating whether the node is in the\n",
    "  test set.\n",
    "\n",
    "- ``label``: The ground truth node category.\n",
    "\n",
    "-  ``feat``: The node features.\n",
    "\n",
    "\n"
   ]
  },
  {
   "cell_type": "code",
   "execution_count": 6,
   "metadata": {},
   "outputs": [
    {
     "name": "stdout",
     "output_type": "stream",
     "text": [
      "Node features\n",
      "{'train_mask': tensor([ True,  True,  True,  ..., False, False, False]), 'val_mask': tensor([False, False, False,  ..., False, False, False]), 'test_mask': tensor([False, False, False,  ...,  True,  True,  True]), 'label': tensor([3, 4, 4,  ..., 3, 3, 3]), 'feat': tensor([[0., 0., 0.,  ..., 0., 0., 0.],\n",
      "        [0., 0., 0.,  ..., 0., 0., 0.],\n",
      "        [0., 0., 0.,  ..., 0., 0., 0.],\n",
      "        ...,\n",
      "        [0., 0., 0.,  ..., 0., 0., 0.],\n",
      "        [0., 0., 0.,  ..., 0., 0., 0.],\n",
      "        [0., 0., 0.,  ..., 0., 0., 0.]])}\n",
      "Edge features\n",
      "{}\n"
     ]
    }
   ],
   "source": [
    "print('Node features')\n",
    "print(g.ndata)\n",
    "print('Edge features')\n",
    "print(g.edata)"
   ]
  },
  {
   "cell_type": "markdown",
   "metadata": {},
   "source": [
    "Defining a Graph Convolutional Network (GCN)\n",
    "--------------------------------------------\n",
    "\n",
    "This tutorial will build a two-layer `Graph Convolutional Network\n",
    "(GCN) <http://tkipf.github.io/graph-convolutional-networks/>`__. Each\n",
    "layer computes new node representations by aggregating neighbor\n",
    "information.\n",
    "\n",
    "To build a multi-layer GCN you can simply stack ``dgl.nn.GraphConv``\n",
    "modules, which inherit ``torch.nn.Module``.\n",
    "\n",
    "\n"
   ]
  },
  {
   "cell_type": "code",
   "execution_count": 7,
   "metadata": {},
   "outputs": [],
   "source": [
    "from dgl.nn import GraphConv\n",
    "\n",
    "class GCN(nn.Module):\n",
    "    def __init__(self, in_feats, h_feats, num_classes):\n",
    "        super(GCN, self).__init__()\n",
    "        self.conv1 = GraphConv(in_feats, h_feats)\n",
    "        self.conv2 = GraphConv(h_feats, num_classes)\n",
    "    \n",
    "    def forward(self, g, in_feat):\n",
    "        h = self.conv1(g, in_feat)\n",
    "        h = F.relu(h)\n",
    "        h = self.conv2(g, h)\n",
    "        return h\n",
    "    \n",
    "# Create the model with given dimensions\n",
    "model = GCN(g.ndata['feat'].shape[1], 16, dataset.num_classes)"
   ]
  },
  {
   "cell_type": "markdown",
   "metadata": {},
   "source": [
    "DGL provides implementation of many popular neighbor aggregation\n",
    "modules. You can easily invoke them with one line of code.\n",
    "\n",
    "\n"
   ]
  },
  {
   "cell_type": "markdown",
   "metadata": {},
   "source": [
    "Training the GCN\n",
    "----------------\n",
    "\n",
    "Training this GCN is similar to training other PyTorch neural networks.\n",
    "\n",
    "\n"
   ]
  },
  {
   "cell_type": "code",
   "execution_count": 8,
   "metadata": {},
   "outputs": [
    {
     "name": "stdout",
     "output_type": "stream",
     "text": [
      "In epoch 0, loss: 1.946, val acc: 0.162 (best 0.162), test acc: 0.159 (best 0.159)\n",
      "In epoch 5, loss: 1.893, val acc: 0.472 (best 0.472), test acc: 0.504 (best 0.504)\n",
      "In epoch 10, loss: 1.812, val acc: 0.476 (best 0.492), test acc: 0.460 (best 0.514)\n",
      "In epoch 15, loss: 1.708, val acc: 0.536 (best 0.536), test acc: 0.547 (best 0.547)\n",
      "In epoch 20, loss: 1.580, val acc: 0.586 (best 0.586), test acc: 0.614 (best 0.614)\n",
      "In epoch 25, loss: 1.431, val acc: 0.628 (best 0.632), test acc: 0.653 (best 0.651)\n",
      "In epoch 30, loss: 1.267, val acc: 0.678 (best 0.678), test acc: 0.697 (best 0.697)\n",
      "In epoch 35, loss: 1.096, val acc: 0.702 (best 0.702), test acc: 0.711 (best 0.711)\n",
      "In epoch 40, loss: 0.926, val acc: 0.722 (best 0.722), test acc: 0.724 (best 0.724)\n",
      "In epoch 45, loss: 0.767, val acc: 0.740 (best 0.740), test acc: 0.749 (best 0.749)\n",
      "In epoch 50, loss: 0.626, val acc: 0.748 (best 0.748), test acc: 0.760 (best 0.760)\n",
      "In epoch 55, loss: 0.505, val acc: 0.754 (best 0.754), test acc: 0.767 (best 0.763)\n",
      "In epoch 60, loss: 0.406, val acc: 0.754 (best 0.754), test acc: 0.772 (best 0.763)\n",
      "In epoch 65, loss: 0.326, val acc: 0.754 (best 0.754), test acc: 0.778 (best 0.763)\n",
      "In epoch 70, loss: 0.264, val acc: 0.760 (best 0.760), test acc: 0.780 (best 0.780)\n",
      "In epoch 75, loss: 0.215, val acc: 0.764 (best 0.764), test acc: 0.784 (best 0.784)\n",
      "In epoch 80, loss: 0.176, val acc: 0.762 (best 0.764), test acc: 0.785 (best 0.784)\n",
      "In epoch 85, loss: 0.147, val acc: 0.766 (best 0.766), test acc: 0.786 (best 0.786)\n",
      "In epoch 90, loss: 0.123, val acc: 0.770 (best 0.770), test acc: 0.786 (best 0.787)\n",
      "In epoch 95, loss: 0.105, val acc: 0.770 (best 0.770), test acc: 0.784 (best 0.787)\n"
     ]
    }
   ],
   "source": [
    "def train(g, model):\n",
    "    optimizer = torch.optim.Adam(model.parameters(), lr=0.01)\n",
    "    best_val_acc = 0\n",
    "    best_test_acc = 0\n",
    "\n",
    "    features = g.ndata['feat']\n",
    "    labels = g.ndata['label']\n",
    "    train_mask = g.ndata['train_mask']\n",
    "    val_mask = g.ndata['val_mask']\n",
    "    test_mask = g.ndata['test_mask']\n",
    "    for e in range(100):\n",
    "        # Forward\n",
    "        logits = model(g, features)\n",
    "\n",
    "        # Compute prediction\n",
    "        pred = logits.argmax(1)\n",
    "\n",
    "        # Compute loss\n",
    "        # Note that you should only compute the losses of the nodes in the training set.\n",
    "        loss = F.cross_entropy(logits[train_mask], labels[train_mask])\n",
    "\n",
    "        # Compute accuracy on training/validation/test\n",
    "        train_acc = (pred[train_mask] == labels[train_mask]).float().mean()\n",
    "        val_acc = (pred[val_mask] == labels[val_mask]).float().mean()\n",
    "        test_acc = (pred[test_mask] == labels[test_mask]).float().mean()\n",
    "\n",
    "        # Save the best validation accuracy and the corresponding test accuracy.\n",
    "        if best_val_acc < val_acc:\n",
    "            best_val_acc = val_acc\n",
    "            best_test_acc = test_acc\n",
    "\n",
    "        # Backward\n",
    "        optimizer.zero_grad()\n",
    "        loss.backward()\n",
    "        optimizer.step()\n",
    "\n",
    "        if e % 5 == 0:\n",
    "            print('In epoch {}, loss: {:.3f}, val acc: {:.3f} (best {:.3f}), test acc: {:.3f} (best {:.3f})'.format(\n",
    "                e, loss, val_acc, best_val_acc, test_acc, best_test_acc))\n",
    "model = GCN(g.ndata['feat'].shape[1], 16, dataset.num_classes)\n",
    "train(g, model)"
   ]
  },
  {
   "cell_type": "markdown",
   "metadata": {},
   "source": [
    "Training on GPU\n",
    "---------------\n",
    "\n",
    "Training on GPU requires to put both the model and the graph onto GPU\n",
    "with the ``to`` method, similar to what you will do in PyTorch.\n",
    "\n",
    ".. code:: python\n",
    "\n",
    "   g = g.to('cuda')\n",
    "   model = GCN(g.ndata['feat'].shape[1], 16, dataset.num_classes).to('cuda')\n",
    "   train(g, model)\n",
    "\n",
    "\n"
   ]
  },
  {
   "cell_type": "markdown",
   "metadata": {},
   "source": [
    "What’s next?\n",
    "------------\n",
    "\n",
    "-  :doc:`How does DGL represent a graph <2_dglgraph>`?\n",
    "-  :doc:`Write your own GNN module <3_message_passing>`.\n",
    "-  :doc:`Link prediction (predicting existence of edges) on full\n",
    "   graph <4_link_predict>`.\n",
    "-  :doc:`Graph classification <5_graph_classification>`.\n",
    "-  :doc:`Make your own dataset <6_load_data>`.\n",
    "-  `The list of supported graph convolution\n",
    "   modules <apinn-pytorch>`.\n",
    "-  `The list of datasets provided by DGL <apidata>`.\n",
    "\n",
    "\n"
   ]
  }
 ],
 "metadata": {
  "kernelspec": {
   "display_name": "Python 3",
   "language": "python",
   "name": "python3"
  },
  "language_info": {
   "codemirror_mode": {
    "name": "ipython",
    "version": 3
   },
   "file_extension": ".py",
   "mimetype": "text/x-python",
   "name": "python",
   "nbconvert_exporter": "python",
   "pygments_lexer": "ipython3",
   "version": "3.8.5"
  }
 },
 "nbformat": 4,
 "nbformat_minor": 1
}
